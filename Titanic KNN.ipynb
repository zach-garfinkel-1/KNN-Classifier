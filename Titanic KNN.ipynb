{
 "cells": [
  {
   "cell_type": "markdown",
   "metadata": {},
   "source": [
    "### Imports"
   ]
  },
  {
   "cell_type": "code",
   "execution_count": 1,
   "metadata": {
    "ExecuteTime": {
     "end_time": "2020-07-06T20:08:56.437411Z",
     "start_time": "2020-07-06T20:08:53.094611Z"
    }
   },
   "outputs": [],
   "source": [
    "# IMPORTS\n",
    "\n",
    "import numpy as np\n",
    "from datascience import *\n",
    "import math\n",
    "import statistics\n",
    "from statistics import mode\n",
    "import pandas as pd\n",
    "import matplotlib.pyplot as plt\n",
    "import matplotlib\n",
    "matplotlib.use('Agg', warn=False)\n",
    "%matplotlib inline\n",
    "plt.style.use('fivethirtyeight')"
   ]
  },
  {
   "cell_type": "markdown",
   "metadata": {},
   "source": [
    "### Distance formulas "
   ]
  },
  {
   "cell_type": "code",
   "execution_count": 2,
   "metadata": {
    "ExecuteTime": {
     "end_time": "2020-07-06T20:08:56.446470Z",
     "start_time": "2020-07-06T20:08:56.441069Z"
    }
   },
   "outputs": [],
   "source": [
    "def euclidean_distance(series1, series2):\n",
    "    distance = []\n",
    "    for i in np.arange(len(series1)):\n",
    "        dist = (series1[i] - series2[i])**2\n",
    "        distance.append(dist)\n",
    "    return (sum(distance))**0.5"
   ]
  },
  {
   "cell_type": "code",
   "execution_count": 3,
   "metadata": {
    "ExecuteTime": {
     "end_time": "2020-07-06T20:08:56.458537Z",
     "start_time": "2020-07-06T20:08:56.450760Z"
    }
   },
   "outputs": [],
   "source": [
    "def manhattan_distance(series1, series2):\n",
    "    distance = 0\n",
    "    for i in np.arange(len(series1)):\n",
    "        dist = abs(series1[i] - series2[i])\n",
    "        distance += dist\n",
    "    return distance"
   ]
  },
  {
   "cell_type": "code",
   "execution_count": 4,
   "metadata": {
    "ExecuteTime": {
     "end_time": "2020-07-06T20:08:56.471714Z",
     "start_time": "2020-07-06T20:08:56.462353Z"
    }
   },
   "outputs": [],
   "source": [
    "def hamming_distance(series1, series2):\n",
    "    distance = 0\n",
    "    for i in np.arange(len(series1)):\n",
    "        if series1[i] == series2[i]:\n",
    "            distance += 1\n",
    "    return abs(len(series1) - distance)"
   ]
  },
  {
   "cell_type": "markdown",
   "metadata": {},
   "source": [
    "### Normalize function"
   ]
  },
  {
   "cell_type": "code",
   "execution_count": 9,
   "metadata": {
    "ExecuteTime": {
     "end_time": "2020-07-06T20:09:44.689290Z",
     "start_time": "2020-07-06T20:09:44.682144Z"
    }
   },
   "outputs": [],
   "source": [
    "def normalize(series1):\n",
    "    new_series = make_array()\n",
    "    for i in np.arange(len(series1)):\n",
    "        new_item = (series1[i] - np.mean(series1)) / np.std(series1)\n",
    "        new_series = np.append(new_series, new_item)\n",
    "    return new_series"
   ]
  },
  {
   "cell_type": "markdown",
   "metadata": {},
   "source": [
    "### Processing the Dataset"
   ]
  },
  {
   "cell_type": "code",
   "execution_count": 30,
   "metadata": {
    "ExecuteTime": {
     "end_time": "2020-07-06T20:12:03.859818Z",
     "start_time": "2020-07-06T20:12:03.838312Z"
    }
   },
   "outputs": [
    {
     "data": {
      "text/html": [
       "<table border=\"1\" class=\"dataframe\">\n",
       "    <thead>\n",
       "        <tr>\n",
       "            <th>Survived</th> <th>Pclass</th> <th>Name</th> <th>Sex</th> <th>Age</th> <th>Siblings/Spouses Aboard</th> <th>Parents/Children Aboard</th> <th>Fare</th>\n",
       "        </tr>\n",
       "    </thead>\n",
       "    <tbody>\n",
       "        <tr>\n",
       "            <td>0       </td> <td>3     </td> <td>Mr. Owen Harris Braund</td> <td>male</td> <td>22  </td> <td>1                      </td> <td>0                      </td> <td>7.25</td>\n",
       "        </tr>\n",
       "    </tbody>\n",
       "</table>\n",
       "<p>... (886 rows omitted)</p>"
      ],
      "text/plain": [
       "<IPython.core.display.HTML object>"
      ]
     },
     "metadata": {},
     "output_type": "display_data"
    }
   ],
   "source": [
    "#LOAD IN DATA\n",
    "\n",
    "titanic_original = Table().read_table('titanic.csv')\n",
    "titanic_original.show(1)"
   ]
  },
  {
   "cell_type": "code",
   "execution_count": 31,
   "metadata": {
    "ExecuteTime": {
     "end_time": "2020-07-06T20:12:11.353406Z",
     "start_time": "2020-07-06T20:12:11.345510Z"
    }
   },
   "outputs": [
    {
     "data": {
      "text/html": [
       "<table border=\"1\" class=\"dataframe\">\n",
       "    <thead>\n",
       "        <tr>\n",
       "            <th>Pclass</th> <th>Sex</th> <th>Age</th> <th>Fare</th>\n",
       "        </tr>\n",
       "    </thead>\n",
       "    <tbody>\n",
       "        <tr>\n",
       "            <td>3     </td> <td>male</td> <td>22  </td> <td>7.25</td>\n",
       "        </tr>\n",
       "    </tbody>\n",
       "</table>\n",
       "<p>... (886 rows omitted)</p>"
      ],
      "text/plain": [
       "<IPython.core.display.HTML object>"
      ]
     },
     "metadata": {},
     "output_type": "display_data"
    }
   ],
   "source": [
    "#DROP SOME COLUMNS\n",
    "\n",
    "titanic_dropped = titanic_original.drop(2,5,6).select(1,2,3,4)\n",
    "titanic_dropped.show(1)"
   ]
  },
  {
   "cell_type": "code",
   "execution_count": 33,
   "metadata": {
    "ExecuteTime": {
     "end_time": "2020-07-06T20:12:38.102597Z",
     "start_time": "2020-07-06T20:12:37.800654Z"
    }
   },
   "outputs": [],
   "source": [
    "# FORMAT AND NORMALIZE COLUMNS\n",
    "\n",
    "sexes = np.array(titanic_dropped.column('Sex'))\n",
    "new_sex = make_array()\n",
    "for i in np.arange(len(sexes)):\n",
    "    if sexes[i] == 'male':\n",
    "        new_sex = np.append(new_sex, 0)\n",
    "    else:\n",
    "        new_sex = np.append(new_sex, 1)\n",
    "        \n",
    "new_sex = normalize(new_sex)\n",
    "new_pclass = normalize(titanic_dropped.column('Pclass'))\n",
    "new_fare = normalize(titanic_dropped.column('Fare'))\n",
    "new_age = normalize(titanic_dropped.column('Age'))\n",
    "survived = titanic_original.column('Survived')"
   ]
  },
  {
   "cell_type": "code",
   "execution_count": 34,
   "metadata": {
    "ExecuteTime": {
     "end_time": "2020-07-06T20:12:51.141852Z",
     "start_time": "2020-07-06T20:12:51.134813Z"
    }
   },
   "outputs": [
    {
     "data": {
      "text/html": [
       "<table border=\"1\" class=\"dataframe\">\n",
       "    <thead>\n",
       "        <tr>\n",
       "            <th>Class</th> <th>Age</th> <th>Fare</th> <th>Sex</th>\n",
       "        </tr>\n",
       "    </thead>\n",
       "    <tbody>\n",
       "        <tr>\n",
       "            <td>0.830524</td> <td>-0.529366</td> <td>-0.503586</td> <td>-0.740266</td>\n",
       "        </tr>\n",
       "    </tbody>\n",
       "</table>\n",
       "<p>... (886 rows omitted)</p>"
      ],
      "text/plain": [
       "<IPython.core.display.HTML object>"
      ]
     },
     "metadata": {},
     "output_type": "display_data"
    }
   ],
   "source": [
    "# SHOW NEW TABLE\n",
    "\n",
    "titanic_normalized = Table().with_columns('Class', new_pclass, 'Age', new_age, 'Fare', new_fare, 'Sex', new_sex)\n",
    "titanic_normalized.show(1)"
   ]
  },
  {
   "cell_type": "code",
   "execution_count": 35,
   "metadata": {
    "ExecuteTime": {
     "end_time": "2020-07-06T20:13:09.612016Z",
     "start_time": "2020-07-06T20:13:09.606703Z"
    }
   },
   "outputs": [],
   "source": [
    "# SEPARATE TRAIN AND TEST SETS\n",
    "\n",
    "train = titanic_normalized.take(np.arange(750))\n",
    "test = titanic_normalized.take(np.arange(750,887))"
   ]
  },
  {
   "cell_type": "markdown",
   "metadata": {},
   "source": [
    "### Defining the KNN Classifier"
   ]
  },
  {
   "cell_type": "code",
   "execution_count": 17,
   "metadata": {
    "ExecuteTime": {
     "end_time": "2020-07-06T20:09:54.360570Z",
     "start_time": "2020-07-06T20:09:54.353741Z"
    }
   },
   "outputs": [],
   "source": [
    "def distance_to_row(row, train_table):\n",
    "    distances = make_array()\n",
    "    for i in np.arange(train_table.num_rows):\n",
    "        dist = manhattan_distance(row, train_table.row(i))\n",
    "        distances = np.append(distances, dist)\n",
    "    dist_table = Table().with_columns('Survived', survived[np.arange(train_table.num_rows)], 'Distance', distances)\n",
    "    return dist_table.sort('Distance', descending=False)"
   ]
  },
  {
   "cell_type": "code",
   "execution_count": 18,
   "metadata": {
    "ExecuteTime": {
     "end_time": "2020-07-06T20:09:54.482346Z",
     "start_time": "2020-07-06T20:09:54.477962Z"
    }
   },
   "outputs": [],
   "source": [
    "def most_common(table, k):\n",
    "    return mode(table.take(np.arange(k)).column(0))"
   ]
  },
  {
   "cell_type": "code",
   "execution_count": 19,
   "metadata": {
    "ExecuteTime": {
     "end_time": "2020-07-06T20:09:54.766415Z",
     "start_time": "2020-07-06T20:09:54.759861Z"
    }
   },
   "outputs": [],
   "source": [
    "def knn_predict(row_number, k):\n",
    "    dist_table = distance_to_row(test.row(row_number), train)\n",
    "    guess = most_common(dist_table, k)\n",
    "    if guess == actuals[row_number]:\n",
    "        return guess, 'Correct'\n",
    "    else:\n",
    "        return guess, 'Wrong'"
   ]
  },
  {
   "cell_type": "code",
   "execution_count": 23,
   "metadata": {
    "ExecuteTime": {
     "end_time": "2020-07-06T20:10:13.616526Z",
     "start_time": "2020-07-06T20:10:13.611098Z"
    }
   },
   "outputs": [],
   "source": [
    "actuals = titanic_original.take(np.arange(750,887)).column(0)"
   ]
  },
  {
   "cell_type": "code",
   "execution_count": 24,
   "metadata": {
    "ExecuteTime": {
     "end_time": "2020-07-06T20:10:19.668244Z",
     "start_time": "2020-07-06T20:10:13.951063Z"
    }
   },
   "outputs": [],
   "source": [
    "predictions = []\n",
    "for i in np.arange(test.num_rows):\n",
    "    guess = knn_predict(i, 7)[0]\n",
    "    predictions.append(guess)"
   ]
  },
  {
   "cell_type": "code",
   "execution_count": 36,
   "metadata": {
    "ExecuteTime": {
     "end_time": "2020-07-06T20:13:37.841701Z",
     "start_time": "2020-07-06T20:13:37.835023Z"
    }
   },
   "outputs": [
    {
     "data": {
      "text/plain": [
       "0.8832116788321168"
      ]
     },
     "execution_count": 36,
     "metadata": {},
     "output_type": "execute_result"
    }
   ],
   "source": [
    "error = hamming_distance(predictions, actuals) / len(predictions)\n",
    "accuracy = 1 - error\n",
    "accuracy"
   ]
  },
  {
   "cell_type": "code",
   "execution_count": 37,
   "metadata": {
    "ExecuteTime": {
     "end_time": "2020-07-06T20:13:45.240758Z",
     "start_time": "2020-07-06T20:13:45.233315Z"
    }
   },
   "outputs": [
    {
     "data": {
      "text/html": [
       "<table border=\"1\" class=\"dataframe\">\n",
       "    <thead>\n",
       "        <tr>\n",
       "            <th>Prediction</th> <th>Actual</th>\n",
       "        </tr>\n",
       "    </thead>\n",
       "    <tbody>\n",
       "        <tr>\n",
       "            <td>1         </td> <td>1     </td>\n",
       "        </tr>\n",
       "        <tr>\n",
       "            <td>1         </td> <td>1     </td>\n",
       "        </tr>\n",
       "        <tr>\n",
       "            <td>0         </td> <td>0     </td>\n",
       "        </tr>\n",
       "    </tbody>\n",
       "</table>\n",
       "<p>... (134 rows omitted)</p>"
      ],
      "text/plain": [
       "<IPython.core.display.HTML object>"
      ]
     },
     "metadata": {},
     "output_type": "display_data"
    }
   ],
   "source": [
    "interp = Table().with_columns('Prediction', predictions, 'Actual', actuals)\n",
    "interp.show(3)"
   ]
  },
  {
   "cell_type": "code",
   "execution_count": 38,
   "metadata": {
    "ExecuteTime": {
     "end_time": "2020-07-06T20:13:50.338816Z",
     "start_time": "2020-07-06T20:13:50.279024Z"
    }
   },
   "outputs": [
    {
     "data": {
      "text/plain": [
       "(1, 'Correct')"
      ]
     },
     "execution_count": 38,
     "metadata": {},
     "output_type": "execute_result"
    }
   ],
   "source": [
    "knn_predict(55, 7)"
   ]
  }
 ],
 "metadata": {
  "kernelspec": {
   "display_name": "Python 3",
   "language": "python",
   "name": "python3"
  },
  "language_info": {
   "codemirror_mode": {
    "name": "ipython",
    "version": 3
   },
   "file_extension": ".py",
   "mimetype": "text/x-python",
   "name": "python",
   "nbconvert_exporter": "python",
   "pygments_lexer": "ipython3",
   "version": "3.7.4"
  },
  "toc": {
   "base_numbering": 1,
   "nav_menu": {},
   "number_sections": false,
   "sideBar": true,
   "skip_h1_title": false,
   "title_cell": "Table of Contents",
   "title_sidebar": "Contents",
   "toc_cell": false,
   "toc_position": {},
   "toc_section_display": true,
   "toc_window_display": false
  }
 },
 "nbformat": 4,
 "nbformat_minor": 2
}
